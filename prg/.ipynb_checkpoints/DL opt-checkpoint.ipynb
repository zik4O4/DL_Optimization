{
 "cells": [
  {
   "cell_type": "markdown",
   "id": "1aea5062-48a8-4837-888b-7f424e111ea9",
   "metadata": {},
   "source": [
    "<h1 style=\"color:darkblue; text-align:center;\">DL Models Optimization: Pruning, Quantization</h1>"
   ]
  },
  {
   "cell_type": "markdown",
   "id": "f5a0d5f3-32f9-45f8-baa6-6d43b4fbd407",
   "metadata": {},
   "source": [
    "Pruning et Quantization sont deux méthodes d'optimisation de modèles de deep learning, utilisées pour\n",
    "Réduire la taille du modèle ,Accélérer l’inférence ... ,Dans ce tutoriel, nous allons :\n",
    "\n",
    "1)Entraîner un modèle de reconnaissance de chiffres manuscrits sur le dataset MNIST\n",
    "\n",
    "2)Appliquer deux techniques d’optimisation :\n",
    "\n",
    " 3)Comparer les tailles et performances des modèles optimisés\n"
   ]
  },
  {
   "cell_type": "code",
   "execution_count": 2,
   "id": "0793a724-caa6-45a3-b433-d80aa3b48571",
   "metadata": {},
   "outputs": [
    {
     "name": "stderr",
     "output_type": "stream",
     "text": [
      "2025-05-09 22:59:28.908275: I tensorflow/core/platform/cpu_feature_guard.cc:210] This TensorFlow binary is optimized to use available CPU instructions in performance-critical operations.\n",
      "To enable the following instructions: AVX2 FMA, in other operations, rebuild TensorFlow with the appropriate compiler flags.\n"
     ]
    }
   ],
   "source": [
    "import tensorflow as tf\n",
    "from tensorflow import keras\n",
    "import matplotlib.pyplot as plt\n",
    "import numpy as np\n",
    "import tensorflow_model_optimization as tfmot"
   ]
  },
  {
   "cell_type": "code",
   "execution_count": 4,
   "id": "297f1f76-ffc4-47f3-a034-7c4005b6145a",
   "metadata": {},
   "outputs": [],
   "source": [
    "(X_train, y_train), (X_test, y_test) = keras.datasets.mnist.load_data()"
   ]
  },
  {
   "cell_type": "code",
   "execution_count": 6,
   "id": "941da0f9-5d12-492a-a28d-f7d60c195c9c",
   "metadata": {},
   "outputs": [
    {
     "data": {
      "text/plain": [
       "60000"
      ]
     },
     "execution_count": 6,
     "metadata": {},
     "output_type": "execute_result"
    }
   ],
   "source": [
    "len(X_train)"
   ]
  },
  {
   "cell_type": "code",
   "execution_count": 8,
   "id": "36a19536-4575-4b57-9582-23974c47dfa3",
   "metadata": {},
   "outputs": [
    {
     "data": {
      "text/plain": [
       "10000"
      ]
     },
     "execution_count": 8,
     "metadata": {},
     "output_type": "execute_result"
    }
   ],
   "source": [
    "len(X_test)"
   ]
  },
  {
   "cell_type": "code",
   "execution_count": 10,
   "id": "59bbe5cf-dd01-47ba-ba76-5810f19d31e9",
   "metadata": {},
   "outputs": [
    {
     "data": {
      "text/plain": [
       "(28, 28)"
      ]
     },
     "execution_count": 10,
     "metadata": {},
     "output_type": "execute_result"
    }
   ],
   "source": [
    "X_train[0].shape"
   ]
  },
  {
   "cell_type": "code",
   "execution_count": 12,
   "id": "2f495b76-b5ef-4ed8-91e3-1012b91650cb",
   "metadata": {},
   "outputs": [
    {
     "data": {
      "text/plain": [
       "<matplotlib.image.AxesImage at 0x142d62480>"
      ]
     },
     "execution_count": 12,
     "metadata": {},
     "output_type": "execute_result"
    },
    {
     "data": {
      "image/png": "[encoded data removed]",
      "text/plain": [
       "<Figure size 480x480 with 1 Axes>"
      ]
     },
     "metadata": {},
     "output_type": "display_data"
    }
   ],
   "source": [
    "plt.matshow(X_train[0])"
   ]
  },
  {
   "cell_type": "code",
   "execution_count": 14,
   "id": "80561323-e7b3-493c-95c0-84c262f97131",
   "metadata": {},
   "outputs": [
    {
     "data": {
      "text/plain": [
       "5"
      ]
     },
     "execution_count": 14,
     "metadata": {},
     "output_type": "execute_result"
    }
   ],
   "source": [
    "y_train[0]"
   ]
  },
  {
   "cell_type": "code",
   "execution_count": 16,
   "id": "db268811-6194-45f1-a8b9-059d3d9cb3e0",
   "metadata": {},
   "outputs": [],
   "source": [
    "X_train = X_train / 255.0\n",
    "X_test = X_test / 255.0"
   ]
  },
  {
   "cell_type": "code",
   "execution_count": 18,
   "id": "a74a99ad-ea2a-4f80-beab-9117d32e4d9b",
   "metadata": {},
   "outputs": [
    {
     "name": "stdout",
     "output_type": "stream",
     "text": [
      "Epoch 1/5\n",
      "1875/1875 [==============================] - 17s 2ms/step - loss: 0.2734 - accuracy: 0.9226\n",
      "Epoch 2/5\n",
      "1875/1875 [==============================] - 5s 3ms/step - loss: 0.1233 - accuracy: 0.9637\n",
      "Epoch 3/5\n",
      "1875/1875 [==============================] - 4s 2ms/step - loss: 0.0866 - accuracy: 0.9742\n",
      "Epoch 4/5\n",
      "1875/1875 [==============================] - 4s 2ms/step - loss: 0.0668 - accuracy: 0.9795\n",
      "Epoch 5/5\n",
      "1875/1875 [==============================] - 3s 2ms/step - loss: 0.0522 - accuracy: 0.9840\n"
     ]
    },
    {
     "data": {
      "text/plain": [
       "<tf_keras.src.callbacks.History at 0x1488dc260>"
      ]
     },
     "execution_count": 18,
     "metadata": {},
     "output_type": "execute_result"
    }
   ],
   "source": [
    "model = keras.Sequential([\n",
    "    keras.layers.Flatten(input_shape=(28, 28)),\n",
    "    keras.layers.Dense(100, activation='relu'),\n",
    "    keras.layers.Dense(10, activation='softmax')  # Correction: changé sigmoid en softmax pour classification multinomiale\n",
    "])\n",
    "\n",
    "model.compile(optimizer='adam',\n",
    "              loss='sparse_categorical_crossentropy',\n",
    "              metrics=['accuracy'])\n",
    "model.fit(X_train, y_train, epochs=5)"
   ]
  },
  {
   "cell_type": "code",
   "execution_count": 20,
   "id": "6d252cd9-6fd5-4180-8eec-96c065204171",
   "metadata": {},
   "outputs": [
    {
     "name": "stdout",
     "output_type": "stream",
     "text": [
      "313/313 [==============================] - 1s 1ms/step - loss: 0.0792 - accuracy: 0.9747\n"
     ]
    },
    {
     "data": {
      "text/plain": [
       "[0.07916077971458435, 0.9746999740600586]"
      ]
     },
     "execution_count": 20,
     "metadata": {},
     "output_type": "execute_result"
    }
   ],
   "source": [
    "model.evaluate(X_test, y_test)"
   ]
  },
  {
   "cell_type": "markdown",
   "id": "ba766ade-35cc-489d-b8b8-c3a3a7500ff7",
   "metadata": {},
   "source": [
    "<h3 style='color:blue'>(1) Pruning (taille réduite du modèle)</h3>"
   ]
  },
  {
   "cell_type": "code",
   "execution_count": 75,
   "id": "99153a18-fb39-43a6-90c5-ed6b9859942c",
   "metadata": {},
   "outputs": [
    {
     "name": "stdout",
     "output_type": "stream",
     "text": [
      "Epoch 1/3\n",
      "1688/1688 [==============================] - 7s 3ms/step - loss: 0.0424 - accuracy: 0.9872 - val_loss: 0.0337 - val_accuracy: 0.9895\n",
      "Epoch 2/3\n",
      "1688/1688 [==============================] - 4s 3ms/step - loss: 0.0329 - accuracy: 0.9907 - val_loss: 0.0363 - val_accuracy: 0.9877\n",
      "Epoch 3/3\n",
      "1688/1688 [==============================] - 4s 2ms/step - loss: 0.0253 - accuracy: 0.9929 - val_loss: 0.0355 - val_accuracy: 0.9882\n"
     ]
    },
    {
     "data": {
      "text/plain": [
       "<tf_keras.src.callbacks.History at 0x149c762a0>"
      ]
     },
     "execution_count": 75,
     "metadata": {},
     "output_type": "execute_result"
    }
   ],
   "source": [
    "\n",
    "prune_low_magnitude = tfmot.sparsity.keras.prune_low_magnitude\n",
    "pruning_params = {\n",
    "    'pruning_schedule': tfmot.sparsity.keras.PolynomialDecay(\n",
    "        initial_sparsity=0.0,\n",
    "        final_sparsity=0.5,\n",
    "        begin_step=0,\n",
    "        end_step=np.ceil(X_train.shape[0] / 32).astype(np.int32) * 3\n",
    "    )\n",
    "}\n",
    "\n",
    "pruned_model = prune_low_magnitude(model, **pruning_params)\n",
    "\n",
    "pruned_model.compile(optimizer='adam',\n",
    "              loss='sparse_categorical_crossentropy',\n",
    "              metrics=['accuracy'])\n",
    "\n",
    "pruned_model.fit(X_train, y_train,\n",
    "          batch_size=32, epochs=3,\n",
    "          validation_split=0.1,\n",
    "          callbacks=[tfmot.sparsity.keras.UpdatePruningStep()])"
   ]
  },
  {
   "cell_type": "code",
   "execution_count": 83,
   "id": "f7de6e82-c690-44f1-8a68-b4680f901136",
   "metadata": {},
   "outputs": [
    {
     "name": "stdout",
     "output_type": "stream",
     "text": [
      "313/313 [==============================] - 0s 1ms/step - loss: 0.0688 - accuracy: 0.9790\n"
     ]
    },
    {
     "data": {
      "text/plain": [
       "[0.06884318590164185, 0.9789999723434448]"
      ]
     },
     "execution_count": 83,
     "metadata": {},
     "output_type": "execute_result"
    }
   ],
   "source": [
    "pruned_model.evaluate(X_test, y_test)"
   ]
  },
  {
   "cell_type": "code",
   "execution_count": 85,
   "id": "f06526d6-02f6-4750-ad7f-aa910a63a9d3",
   "metadata": {},
   "outputs": [
    {
     "name": "stdout",
     "output_type": "stream",
     "text": [
      "Model: \"sequential\"\n",
      "_________________________________________________________________\n",
      " Layer (type)                Output Shape              Param #   \n",
      "=================================================================\n",
      " prune_low_magnitude_flatte  (None, 784)               1         \n",
      " n (PruneLowMagnitude)                                           \n",
      "                                                                 \n",
      " prune_low_magnitude_dense   (None, 100)               156902    \n",
      " (PruneLowMagnitude)                                             \n",
      "                                                                 \n",
      " prune_low_magnitude_dense_  (None, 10)                2012      \n",
      " 1 (PruneLowMagnitude)                                           \n",
      "                                                                 \n",
      "=================================================================\n",
      "Total params: 158915 (620.77 KB)\n",
      "Trainable params: 79510 (310.59 KB)\n",
      "Non-trainable params: 79405 (310.19 KB)\n",
      "_________________________________________________________________\n"
     ]
    }
   ],
   "source": [
    "pruned_model.summary()"
   ]
  },
  {
   "cell_type": "markdown",
   "id": "33834402-b947-4490-84fb-4248a03c3b0d",
   "metadata": {},
   "source": [
    "<h3 style='color:blue'>(2) Quantification post-formation</h3>"
   ]
  },
  {
   "cell_type": "markdown",
   "id": "9a0aecc1-1b0b-4d0f-aee8-bbf8fff8c71b",
   "metadata": {},
   "source": [
    "**Sans quantification**"
   ]
  },
  {
   "cell_type": "code",
   "execution_count": 89,
   "id": "54f31024-41f5-4fd6-8229-1c9f21d3b9f5",
   "metadata": {},
   "outputs": [
    {
     "name": "stdout",
     "output_type": "stream",
     "text": [
      "INFO:tensorflow:Assets written to: /var/folders/27/pfjs1z692ml4r915h67q79x40000gn/T/tmp1lvb88h_/assets\n"
     ]
    },
    {
     "name": "stderr",
     "output_type": "stream",
     "text": [
      "INFO:tensorflow:Assets written to: /var/folders/27/pfjs1z692ml4r915h67q79x40000gn/T/tmp1lvb88h_/assets\n",
      "W0000 00:00:1746831642.227472  782987 tf_tfl_flatbuffer_helpers.cc:390] Ignored output_format.\n",
      "W0000 00:00:1746831642.227489  782987 tf_tfl_flatbuffer_helpers.cc:393] Ignored drop_control_dependency.\n",
      "2025-05-10 00:00:42.227711: I tensorflow/cc/saved_model/reader.cc:83] Reading SavedModel from: /var/folders/27/pfjs1z692ml4r915h67q79x40000gn/T/tmp1lvb88h_\n",
      "2025-05-10 00:00:42.228577: I tensorflow/cc/saved_model/reader.cc:51] Reading meta graph with tags { serve }\n",
      "2025-05-10 00:00:42.228592: I tensorflow/cc/saved_model/reader.cc:146] Reading SavedModel debug info (if present) from: /var/folders/27/pfjs1z692ml4r915h67q79x40000gn/T/tmp1lvb88h_\n",
      "2025-05-10 00:00:42.236673: I tensorflow/cc/saved_model/loader.cc:234] Restoring SavedModel bundle.\n",
      "2025-05-10 00:00:42.265621: I tensorflow/cc/saved_model/loader.cc:218] Running initialization op on SavedModel bundle at path: /var/folders/27/pfjs1z692ml4r915h67q79x40000gn/T/tmp1lvb88h_\n",
      "2025-05-10 00:00:42.274444: I tensorflow/cc/saved_model/loader.cc:317] SavedModel load for tags { serve }; Status: success: OK. Took 46732 microseconds.\n"
     ]
    }
   ],
   "source": [
    "converter = tf.lite.TFLiteConverter.from_keras_model(model)\n",
    "tflite_model = converter.convert()"
   ]
  },
  {
   "cell_type": "markdown",
   "id": "d873b589-cc54-4acf-89af-39a0afc2d02b",
   "metadata": {},
   "source": [
    "**Avec quantification**"
   ]
  },
  {
   "cell_type": "code",
   "execution_count": 92,
   "id": "19d45684-7293-4d6e-ad60-74fae51f41b8",
   "metadata": {},
   "outputs": [
    {
     "name": "stdout",
     "output_type": "stream",
     "text": [
      "INFO:tensorflow:Assets written to: /var/folders/27/pfjs1z692ml4r915h67q79x40000gn/T/tmpj020c4r6/assets\n"
     ]
    },
    {
     "name": "stderr",
     "output_type": "stream",
     "text": [
      "INFO:tensorflow:Assets written to: /var/folders/27/pfjs1z692ml4r915h67q79x40000gn/T/tmpj020c4r6/assets\n",
      "W0000 00:00:1746831644.916441  782987 tf_tfl_flatbuffer_helpers.cc:390] Ignored output_format.\n",
      "W0000 00:00:1746831644.916455  782987 tf_tfl_flatbuffer_helpers.cc:393] Ignored drop_control_dependency.\n",
      "2025-05-10 00:00:44.916640: I tensorflow/cc/saved_model/reader.cc:83] Reading SavedModel from: /var/folders/27/pfjs1z692ml4r915h67q79x40000gn/T/tmpj020c4r6\n",
      "2025-05-10 00:00:44.917439: I tensorflow/cc/saved_model/reader.cc:51] Reading meta graph with tags { serve }\n",
      "2025-05-10 00:00:44.917450: I tensorflow/cc/saved_model/reader.cc:146] Reading SavedModel debug info (if present) from: /var/folders/27/pfjs1z692ml4r915h67q79x40000gn/T/tmpj020c4r6\n",
      "2025-05-10 00:00:44.924925: I tensorflow/cc/saved_model/loader.cc:234] Restoring SavedModel bundle.\n",
      "2025-05-10 00:00:44.953496: I tensorflow/cc/saved_model/loader.cc:218] Running initialization op on SavedModel bundle at path: /var/folders/27/pfjs1z692ml4r915h67q79x40000gn/T/tmpj020c4r6\n",
      "2025-05-10 00:00:44.961985: I tensorflow/cc/saved_model/loader.cc:317] SavedModel load for tags { serve }; Status: success: OK. Took 45329 microseconds.\n"
     ]
    }
   ],
   "source": [
    "# Convertir en TFLite avec quantification\n",
    "converter = tf.lite.TFLiteConverter.from_keras_model(model)\n",
    "converter.optimizations = [tf.lite.Optimize.DEFAULT]\n",
    "tflite_quant_model = converter.convert()"
   ]
  },
  {
   "cell_type": "code",
   "execution_count": 94,
   "id": "752d5c09-c9e5-4655-ad09-7465efc54592",
   "metadata": {},
   "outputs": [
    {
     "data": {
      "text/plain": [
       "319936"
      ]
     },
     "execution_count": 94,
     "metadata": {},
     "output_type": "execute_result"
    }
   ],
   "source": [
    "len(tflite_model)"
   ]
  },
  {
   "cell_type": "code",
   "execution_count": 96,
   "id": "196de91d-b7a4-4f7e-a5b1-21ad935cfc96",
   "metadata": {},
   "outputs": [
    {
     "data": {
      "text/plain": [
       "84816"
      ]
     },
     "execution_count": 96,
     "metadata": {},
     "output_type": "execute_result"
    }
   ],
   "source": [
    "len(tflite_quant_model)"
   ]
  },
  {
   "cell_type": "code",
   "execution_count": 98,
   "id": "65005cce-9de5-47f8-afbb-f8428f716e1f",
   "metadata": {},
   "outputs": [],
   "source": [
    "with open(\"tflite_model.tflite\", \"wb\") as f:\n",
    "    f.write(tflite_model)"
   ]
  },
  {
   "cell_type": "code",
   "execution_count": 100,
   "id": "135d6d41-05a2-4267-aead-f85ac78d6e6c",
   "metadata": {},
   "outputs": [],
   "source": [
    "with open(\"tflite_quant_model.tflite\", \"wb\") as f:\n",
    "    f.write(tflite_quant_model)"
   ]
  },
  {
   "cell_type": "markdown",
   "id": "144ed9bd-5447-4b17-b4f2-3dead9683d5b",
   "metadata": {},
   "source": [
    "<h3 style='color:blue'>(3) Quantization aware training</h3>"
   ]
  },
  {
   "cell_type": "code",
   "execution_count": 103,
   "id": "888431a2-7b60-49b6-9cd8-58dce78f20c5",
   "metadata": {},
   "outputs": [
    {
     "name": "stdout",
     "output_type": "stream",
     "text": [
      "Model: \"sequential\"\n",
      "_________________________________________________________________\n",
      " Layer (type)                Output Shape              Param #   \n",
      "=================================================================\n",
      " quantize_layer_1 (Quantize  (None, 28, 28)            3         \n",
      " Layer)                                                          \n",
      "                                                                 \n",
      " quant_flatten (QuantizeWra  (None, 784)               1         \n",
      " pperV2)                                                         \n",
      "                                                                 \n",
      " quant_dense (QuantizeWrapp  (None, 100)               78505     \n",
      " erV2)                                                           \n",
      "                                                                 \n",
      " quant_dense_1 (QuantizeWra  (None, 10)                1015      \n",
      " pperV2)                                                         \n",
      "                                                                 \n",
      "=================================================================\n",
      "Total params: 79524 (310.64 KB)\n",
      "Trainable params: 79510 (310.59 KB)\n",
      "Non-trainable params: 14 (56.00 Byte)\n",
      "_________________________________________________________________\n"
     ]
    }
   ],
   "source": [
    "quantize_model = tfmot.quantization.keras.quantize_model\n",
    "\n",
    "# Créer un modèle avec awareness de quantification\n",
    "q_aware_model = quantize_model(model)\n",
    "\n",
    "# Recompiler le modèle\n",
    "q_aware_model.compile(optimizer='adam',\n",
    "                     loss='sparse_categorical_crossentropy',\n",
    "                     metrics=['accuracy'])\n",
    "\n",
    "# Afficher le résumé du modèle avec quantification\n",
    "q_aware_model.summary()"
   ]
  },
  {
   "cell_type": "code",
   "execution_count": 105,
   "id": "dc6033f7-59e8-46ee-82d3-f5a9ee57993f",
   "metadata": {},
   "outputs": [
    {
     "name": "stdout",
     "output_type": "stream",
     "text": [
      "1875/1875 [==============================] - 6s 3ms/step - loss: 0.0318 - accuracy: 0.9900 - val_loss: 0.0820 - val_accuracy: 0.9758\n"
     ]
    },
    {
     "data": {
      "text/plain": [
       "<tf_keras.src.callbacks.History at 0x1491d4e30>"
      ]
     },
     "execution_count": 105,
     "metadata": {},
     "output_type": "execute_result"
    }
   ],
   "source": [
    "# Entraîner le modèle conscient de la quantification\n",
    "q_aware_model.fit(X_train, y_train, epochs=1, validation_data=(X_test, y_test))"
   ]
  },
  {
   "cell_type": "code",
   "execution_count": 106,
   "id": "c0c24dac-3efc-4871-abbb-2ed761632f88",
   "metadata": {},
   "outputs": [
    {
     "name": "stdout",
     "output_type": "stream",
     "text": [
      "313/313 [==============================] - 0s 1ms/step - loss: 0.0820 - accuracy: 0.9758\n"
     ]
    },
    {
     "data": {
      "text/plain": [
       "[0.08204996585845947, 0.9757999777793884]"
      ]
     },
     "execution_count": 106,
     "metadata": {},
     "output_type": "execute_result"
    }
   ],
   "source": [
    "q_aware_model.evaluate(X_test, y_test)"
   ]
  },
  {
   "cell_type": "code",
   "execution_count": 107,
   "id": "e028a56d-7377-4384-af08-d50e4c7dc58c",
   "metadata": {},
   "outputs": [
    {
     "name": "stdout",
     "output_type": "stream",
     "text": [
      "INFO:tensorflow:Assets written to: /var/folders/27/pfjs1z692ml4r915h67q79x40000gn/T/tmpiqgkx_vq/assets\n"
     ]
    },
    {
     "name": "stderr",
     "output_type": "stream",
     "text": [
      "INFO:tensorflow:Assets written to: /var/folders/27/pfjs1z692ml4r915h67q79x40000gn/T/tmpiqgkx_vq/assets\n",
      "/opt/anaconda3/lib/python3.12/site-packages/tensorflow/lite/python/convert.py:964: UserWarning: Statistics for quantized inputs were expected, but not specified; continuing anyway.\n",
      "  warnings.warn(\n",
      "W0000 00:00:1746831658.973414  782987 tf_tfl_flatbuffer_helpers.cc:390] Ignored output_format.\n",
      "W0000 00:00:1746831658.973427  782987 tf_tfl_flatbuffer_helpers.cc:393] Ignored drop_control_dependency.\n",
      "2025-05-10 00:00:58.973647: I tensorflow/cc/saved_model/reader.cc:83] Reading SavedModel from: /var/folders/27/pfjs1z692ml4r915h67q79x40000gn/T/tmpiqgkx_vq\n",
      "2025-05-10 00:00:58.975852: I tensorflow/cc/saved_model/reader.cc:51] Reading meta graph with tags { serve }\n",
      "2025-05-10 00:00:58.975877: I tensorflow/cc/saved_model/reader.cc:146] Reading SavedModel debug info (if present) from: /var/folders/27/pfjs1z692ml4r915h67q79x40000gn/T/tmpiqgkx_vq\n",
      "2025-05-10 00:00:58.991683: I tensorflow/cc/saved_model/loader.cc:234] Restoring SavedModel bundle.\n",
      "2025-05-10 00:00:59.038814: I tensorflow/cc/saved_model/loader.cc:218] Running initialization op on SavedModel bundle at path: /var/folders/27/pfjs1z692ml4r915h67q79x40000gn/T/tmpiqgkx_vq\n",
      "2025-05-10 00:00:59.054075: I tensorflow/cc/saved_model/loader.cc:317] SavedModel load for tags { serve }; Status: success: OK. Took 80428 microseconds.\n"
     ]
    }
   ],
   "source": [
    "# Convertir le modèle conscient de la quantification en TFLite\n",
    "converter = tf.lite.TFLiteConverter.from_keras_model(q_aware_model)\n",
    "converter.optimizations = [tf.lite.Optimize.DEFAULT]\n",
    "tflite_qaware_model = converter.convert()"
   ]
  },
  {
   "cell_type": "code",
   "execution_count": 108,
   "id": "67b93d12-2781-4691-9a03-fc91eae395a8",
   "metadata": {},
   "outputs": [
    {
     "data": {
      "text/plain": [
       "82712"
      ]
     },
     "execution_count": 108,
     "metadata": {},
     "output_type": "execute_result"
    }
   ],
   "source": [
    "len(tflite_qaware_model)"
   ]
  },
  {
   "cell_type": "code",
   "execution_count": 113,
   "id": "8426fb98-0584-4384-a51d-22201b00af6a",
   "metadata": {},
   "outputs": [],
   "source": [
    "with open(\"tflite_qaware_model.tflite\", 'wb') as f:\n",
    "    f.write(tflite_qaware_model)"
   ]
  },
  {
   "cell_type": "code",
   "execution_count": null,
   "id": "9ba95e40-8fa8-4894-bbb7-d7363fc6e315",
   "metadata": {},
   "outputs": [],
   "source": []
  },
  {
   "cell_type": "code",
   "execution_count": null,
   "id": "061b9f77-df3b-485e-852d-bd353fcdb747",
   "metadata": {},
   "outputs": [],
   "source": []
  }
 ],
 "metadata": {
  "kernelspec": {
   "display_name": "Python [conda env:base] *",
   "language": "python",
   "name": "conda-base-py"
  },
  "language_info": {
   "codemirror_mode": {
    "name": "ipython",
    "version": 3
   },
   "file_extension": ".py",
   "mimetype": "text/x-python",
   "name": "python",
   "nbconvert_exporter": "python",
   "pygments_lexer": "ipython3",
   "version": "3.12.7"
  }
 },
 "nbformat": 4,
 "nbformat_minor": 5
}
